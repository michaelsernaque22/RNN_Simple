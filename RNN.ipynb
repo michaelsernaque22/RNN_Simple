{
  "nbformat": 4,
  "nbformat_minor": 0,
  "metadata": {
    "colab": {
      "name": "RNN.ipynb",
      "provenance": [],
      "collapsed_sections": [],
      "authorship_tag": "ABX9TyM66Wh7gZ8Cxr4QGk1bqCm/",
      "include_colab_link": true
    },
    "kernelspec": {
      "name": "python3",
      "display_name": "Python 3"
    },
    "language_info": {
      "name": "python"
    }
  },
  "cells": [
    {
      "cell_type": "markdown",
      "metadata": {
        "id": "view-in-github",
        "colab_type": "text"
      },
      "source": [
        "<a href=\"https://colab.research.google.com/github/michaelsernaque22/RNN_Simple/blob/main/RNN.ipynb\" target=\"_parent\"><img src=\"https://colab.research.google.com/assets/colab-badge.svg\" alt=\"Open In Colab\"/></a>"
      ]
    },
    {
      "cell_type": "code",
      "execution_count": null,
      "metadata": {
        "id": "EILBFVNOYz-r"
      },
      "outputs": [],
      "source": [
        "import numpy as np\n",
        "import pandas as pd\n",
        "import pandas_datareader as pdr\n",
        "import matplotlib.pyplot as plt\n",
        "import sklearn\n",
        "from datetime import datetime"
      ]
    },
    {
      "cell_type": "code",
      "source": [
        "data=pd.read_csv('Data.csv')"
      ],
      "metadata": {
        "id": "LgYTAaracjX8"
      },
      "execution_count": null,
      "outputs": []
    },
    {
      "cell_type": "code",
      "source": [
        "data.head()"
      ],
      "metadata": {
        "colab": {
          "base_uri": "https://localhost:8080/",
          "height": 206
        },
        "id": "rqR2NzSVdXzn",
        "outputId": "1d6ae527-297e-43f5-b11d-2877e3142b3a"
      },
      "execution_count": null,
      "outputs": [
        {
          "output_type": "execute_result",
          "data": {
            "text/plain": [
              "      Fecha   NDVI  Temp_prom  Viento  Humedad   Precipitacion   Cls\n",
              "0  3/23/2016  0.73       20.0     2.9      68.5             9.1    2\n",
              "1  4/22/2016  0.69       20.5     3.4      64.0             0.7    1\n",
              "2   5/2/2016  0.72       27.0     2.9      59.0             2.6    2\n",
              "3  5/22/2016  0.68       28.0     2.4      60.0             0.0    1\n",
              "4  6/11/2016  0.44       20.0     2.3      61.5             0.3    0"
            ],
            "text/html": [
              "\n",
              "  <div id=\"df-6417a1a3-8989-42cf-ac64-74c6fa629d6e\">\n",
              "    <div class=\"colab-df-container\">\n",
              "      <div>\n",
              "<style scoped>\n",
              "    .dataframe tbody tr th:only-of-type {\n",
              "        vertical-align: middle;\n",
              "    }\n",
              "\n",
              "    .dataframe tbody tr th {\n",
              "        vertical-align: top;\n",
              "    }\n",
              "\n",
              "    .dataframe thead th {\n",
              "        text-align: right;\n",
              "    }\n",
              "</style>\n",
              "<table border=\"1\" class=\"dataframe\">\n",
              "  <thead>\n",
              "    <tr style=\"text-align: right;\">\n",
              "      <th></th>\n",
              "      <th>Fecha</th>\n",
              "      <th>NDVI</th>\n",
              "      <th>Temp_prom</th>\n",
              "      <th>Viento</th>\n",
              "      <th>Humedad</th>\n",
              "      <th>Precipitacion</th>\n",
              "      <th>Cls</th>\n",
              "    </tr>\n",
              "  </thead>\n",
              "  <tbody>\n",
              "    <tr>\n",
              "      <th>0</th>\n",
              "      <td>3/23/2016</td>\n",
              "      <td>0.73</td>\n",
              "      <td>20.0</td>\n",
              "      <td>2.9</td>\n",
              "      <td>68.5</td>\n",
              "      <td>9.1</td>\n",
              "      <td>2</td>\n",
              "    </tr>\n",
              "    <tr>\n",
              "      <th>1</th>\n",
              "      <td>4/22/2016</td>\n",
              "      <td>0.69</td>\n",
              "      <td>20.5</td>\n",
              "      <td>3.4</td>\n",
              "      <td>64.0</td>\n",
              "      <td>0.7</td>\n",
              "      <td>1</td>\n",
              "    </tr>\n",
              "    <tr>\n",
              "      <th>2</th>\n",
              "      <td>5/2/2016</td>\n",
              "      <td>0.72</td>\n",
              "      <td>27.0</td>\n",
              "      <td>2.9</td>\n",
              "      <td>59.0</td>\n",
              "      <td>2.6</td>\n",
              "      <td>2</td>\n",
              "    </tr>\n",
              "    <tr>\n",
              "      <th>3</th>\n",
              "      <td>5/22/2016</td>\n",
              "      <td>0.68</td>\n",
              "      <td>28.0</td>\n",
              "      <td>2.4</td>\n",
              "      <td>60.0</td>\n",
              "      <td>0.0</td>\n",
              "      <td>1</td>\n",
              "    </tr>\n",
              "    <tr>\n",
              "      <th>4</th>\n",
              "      <td>6/11/2016</td>\n",
              "      <td>0.44</td>\n",
              "      <td>20.0</td>\n",
              "      <td>2.3</td>\n",
              "      <td>61.5</td>\n",
              "      <td>0.3</td>\n",
              "      <td>0</td>\n",
              "    </tr>\n",
              "  </tbody>\n",
              "</table>\n",
              "</div>\n",
              "      <button class=\"colab-df-convert\" onclick=\"convertToInteractive('df-6417a1a3-8989-42cf-ac64-74c6fa629d6e')\"\n",
              "              title=\"Convert this dataframe to an interactive table.\"\n",
              "              style=\"display:none;\">\n",
              "        \n",
              "  <svg xmlns=\"http://www.w3.org/2000/svg\" height=\"24px\"viewBox=\"0 0 24 24\"\n",
              "       width=\"24px\">\n",
              "    <path d=\"M0 0h24v24H0V0z\" fill=\"none\"/>\n",
              "    <path d=\"M18.56 5.44l.94 2.06.94-2.06 2.06-.94-2.06-.94-.94-2.06-.94 2.06-2.06.94zm-11 1L8.5 8.5l.94-2.06 2.06-.94-2.06-.94L8.5 2.5l-.94 2.06-2.06.94zm10 10l.94 2.06.94-2.06 2.06-.94-2.06-.94-.94-2.06-.94 2.06-2.06.94z\"/><path d=\"M17.41 7.96l-1.37-1.37c-.4-.4-.92-.59-1.43-.59-.52 0-1.04.2-1.43.59L10.3 9.45l-7.72 7.72c-.78.78-.78 2.05 0 2.83L4 21.41c.39.39.9.59 1.41.59.51 0 1.02-.2 1.41-.59l7.78-7.78 2.81-2.81c.8-.78.8-2.07 0-2.86zM5.41 20L4 18.59l7.72-7.72 1.47 1.35L5.41 20z\"/>\n",
              "  </svg>\n",
              "      </button>\n",
              "      \n",
              "  <style>\n",
              "    .colab-df-container {\n",
              "      display:flex;\n",
              "      flex-wrap:wrap;\n",
              "      gap: 12px;\n",
              "    }\n",
              "\n",
              "    .colab-df-convert {\n",
              "      background-color: #E8F0FE;\n",
              "      border: none;\n",
              "      border-radius: 50%;\n",
              "      cursor: pointer;\n",
              "      display: none;\n",
              "      fill: #1967D2;\n",
              "      height: 32px;\n",
              "      padding: 0 0 0 0;\n",
              "      width: 32px;\n",
              "    }\n",
              "\n",
              "    .colab-df-convert:hover {\n",
              "      background-color: #E2EBFA;\n",
              "      box-shadow: 0px 1px 2px rgba(60, 64, 67, 0.3), 0px 1px 3px 1px rgba(60, 64, 67, 0.15);\n",
              "      fill: #174EA6;\n",
              "    }\n",
              "\n",
              "    [theme=dark] .colab-df-convert {\n",
              "      background-color: #3B4455;\n",
              "      fill: #D2E3FC;\n",
              "    }\n",
              "\n",
              "    [theme=dark] .colab-df-convert:hover {\n",
              "      background-color: #434B5C;\n",
              "      box-shadow: 0px 1px 3px 1px rgba(0, 0, 0, 0.15);\n",
              "      filter: drop-shadow(0px 1px 2px rgba(0, 0, 0, 0.3));\n",
              "      fill: #FFFFFF;\n",
              "    }\n",
              "  </style>\n",
              "\n",
              "      <script>\n",
              "        const buttonEl =\n",
              "          document.querySelector('#df-6417a1a3-8989-42cf-ac64-74c6fa629d6e button.colab-df-convert');\n",
              "        buttonEl.style.display =\n",
              "          google.colab.kernel.accessAllowed ? 'block' : 'none';\n",
              "\n",
              "        async function convertToInteractive(key) {\n",
              "          const element = document.querySelector('#df-6417a1a3-8989-42cf-ac64-74c6fa629d6e');\n",
              "          const dataTable =\n",
              "            await google.colab.kernel.invokeFunction('convertToInteractive',\n",
              "                                                     [key], {});\n",
              "          if (!dataTable) return;\n",
              "\n",
              "          const docLinkHtml = 'Like what you see? Visit the ' +\n",
              "            '<a target=\"_blank\" href=https://colab.research.google.com/notebooks/data_table.ipynb>data table notebook</a>'\n",
              "            + ' to learn more about interactive tables.';\n",
              "          element.innerHTML = '';\n",
              "          dataTable['output_type'] = 'display_data';\n",
              "          await google.colab.output.renderOutput(dataTable, element);\n",
              "          const docLink = document.createElement('div');\n",
              "          docLink.innerHTML = docLinkHtml;\n",
              "          element.appendChild(docLink);\n",
              "        }\n",
              "      </script>\n",
              "    </div>\n",
              "  </div>\n",
              "  "
            ]
          },
          "metadata": {},
          "execution_count": 181
        }
      ]
    },
    {
      "cell_type": "code",
      "source": [
        "data_1 = data['NDVI']\n",
        "plt.figure(figsize = (15,4))\n",
        "plt.plot(data_1)\n",
        "plt.title(\"Dinamica temporal NDVI\")\n",
        "plt.show()"
      ],
      "metadata": {
        "colab": {
          "base_uri": "https://localhost:8080/",
          "height": 281
        },
        "id": "lfUui75jfTDu",
        "outputId": "b0c54f19-2aa3-448e-fcb6-60815e07584a"
      },
      "execution_count": null,
      "outputs": [
        {
          "output_type": "display_data",
          "data": {
            "text/plain": [
              "<Figure size 1080x288 with 1 Axes>"
            ],
            "image/png": "[encoded data removed]"
          },
          "metadata": {
            "needs_background": "light"
          }
        }
      ]
    },
    {
      "cell_type": "code",
      "source": [
        "last_index = int(len(data_1) * 0.80)\n",
        "train = data_1[:last_index].values.reshape(-1,1)\n",
        "test = data_1[last_index:].values.reshape(-1,1)\n",
        "train.shape, test.shape"
      ],
      "metadata": {
        "colab": {
          "base_uri": "https://localhost:8080/"
        },
        "id": "n3BEOvy5fuB4",
        "outputId": "d048062b-d7c1-408b-ba6f-9888572ad5d1"
      },
      "execution_count": null,
      "outputs": [
        {
          "output_type": "execute_result",
          "data": {
            "text/plain": [
              "((108, 1), (28, 1))"
            ]
          },
          "metadata": {},
          "execution_count": 5
        }
      ]
    },
    {
      "cell_type": "code",
      "source": [
        "from sklearn.preprocessing import MinMaxScaler\n",
        " \n",
        "scaler = MinMaxScaler()\n",
        "train = scaler.fit_transform(train)\n",
        "test = scaler.transform(test)\n",
        "train[:10]"
      ],
      "metadata": {
        "colab": {
          "base_uri": "https://localhost:8080/"
        },
        "id": "LmEjlCPXf0j4",
        "outputId": "fd651264-51be-47c9-9a55-c0b3429d634b"
      },
      "execution_count": null,
      "outputs": [
        {
          "output_type": "execute_result",
          "data": {
            "text/plain": [
              "array([[0.8       ],\n",
              "       [0.71111111],\n",
              "       [0.77777778],\n",
              "       [0.68888889],\n",
              "       [0.15555556],\n",
              "       [0.62222222],\n",
              "       [0.53333333],\n",
              "       [0.33333333],\n",
              "       [0.4       ],\n",
              "       [0.35555556]])"
            ]
          },
          "metadata": {},
          "execution_count": 6
        }
      ]
    },
    {
      "cell_type": "code",
      "source": [
        "def create_dataset(dataset, time_step=1):\n",
        "  data_X, data_Y = [], []\n",
        "  for i in range(len(dataset)-time_step-1):\n",
        "    a = dataset[i:(i + time_step), 0]   \n",
        "    data_X.append(a)\n",
        "    data_Y.append(dataset[i + time_step, 0])\n",
        "  return np.array(data_X), np.array(data_Y)\n",
        "\n",
        "time_step = 10\n",
        "X_train, y_train = create_dataset(train, 10)\n",
        "X_test, y_test = create_dataset(test, 10)"
      ],
      "metadata": {
        "id": "O8qUwIu_f6dk"
      },
      "execution_count": null,
      "outputs": []
    },
    {
      "cell_type": "code",
      "source": [
        "X_train = X_train.reshape(X_train.shape[0],X_train.shape[1], 1)\n",
        "X_test = X_test.reshape(X_test.shape[0],X_test.shape[1], 1)"
      ],
      "metadata": {
        "id": "WaKLw0H3f88M"
      },
      "execution_count": null,
      "outputs": []
    },
    {
      "cell_type": "code",
      "source": [
        "from keras.models import Sequential\n",
        "from keras.layers import SimpleRNN, Dense\n",
        " \n",
        "model = Sequential([SimpleRNN(20, return_sequences = True, input_shape = [None,1]),\n",
        "                    SimpleRNN(20, return_sequences = True),\n",
        "                    SimpleRNN(20, return_sequences = True),\n",
        "                    SimpleRNN(20, return_sequences = True),\n",
        "                    SimpleRNN(20),\n",
        "                    Dense(1)])\n",
        "model.compile(loss = 'categorical_crossentropy', optimizer = 'adam')\n",
        "model.summary()"
      ],
      "metadata": {
        "colab": {
          "base_uri": "https://localhost:8080/"
        },
        "id": "lhBElSBGgq09",
        "outputId": "2d76d5e0-15ab-482f-ce83-d344a64d121c"
      },
      "execution_count": null,
      "outputs": [
        {
          "output_type": "stream",
          "name": "stdout",
          "text": [
            "Model: \"sequential\"\n",
            "_________________________________________________________________\n",
            " Layer (type)                Output Shape              Param #   \n",
            "=================================================================\n",
            " simple_rnn (SimpleRNN)      (None, None, 20)          440       \n",
            "                                                                 \n",
            " simple_rnn_1 (SimpleRNN)    (None, None, 20)          820       \n",
            "                                                                 \n",
            " simple_rnn_2 (SimpleRNN)    (None, None, 20)          820       \n",
            "                                                                 \n",
            " simple_rnn_3 (SimpleRNN)    (None, None, 20)          820       \n",
            "                                                                 \n",
            " simple_rnn_4 (SimpleRNN)    (None, 20)                820       \n",
            "                                                                 \n",
            " dense (Dense)               (None, 1)                 21        \n",
            "                                                                 \n",
            "=================================================================\n",
            "Total params: 3,741\n",
            "Trainable params: 3,741\n",
            "Non-trainable params: 0\n",
            "_________________________________________________________________\n"
          ]
        }
      ]
    },
    {
      "cell_type": "code",
      "source": [
        "model.fit(X_train, y_train, validation_data = (X_test, y_test), epochs = 80)"
      ],
      "metadata": {
        "colab": {
          "base_uri": "https://localhost:8080/"
        },
        "id": "DPlUuR6TgvWs",
        "outputId": "1b3dd20e-039d-4848-9088-ec47b9ccb24c"
      },
      "execution_count": null,
      "outputs": [
        {
          "output_type": "stream",
          "name": "stdout",
          "text": [
            "Epoch 1/80\n",
            "4/4 [==============================] - 5s 240ms/step - loss: 7.0379e-08 - val_loss: 8.5239e-08\n",
            "Epoch 2/80\n",
            "4/4 [==============================] - 0s 21ms/step - loss: 7.0379e-08 - val_loss: 8.5239e-08\n",
            "Epoch 3/80\n",
            "4/4 [==============================] - 0s 20ms/step - loss: 7.0379e-08 - val_loss: 8.5239e-08\n",
            "Epoch 4/80\n",
            "4/4 [==============================] - 0s 20ms/step - loss: 7.0379e-08 - val_loss: 8.5239e-08\n",
            "Epoch 5/80\n",
            "4/4 [==============================] - 0s 19ms/step - loss: 7.0379e-08 - val_loss: 8.5239e-08\n",
            "Epoch 6/80\n",
            "4/4 [==============================] - 0s 19ms/step - loss: 7.0379e-08 - val_loss: 8.5239e-08\n",
            "Epoch 7/80\n",
            "4/4 [==============================] - 0s 19ms/step - loss: 7.0379e-08 - val_loss: 8.5239e-08\n",
            "Epoch 8/80\n",
            "4/4 [==============================] - 0s 19ms/step - loss: 7.0379e-08 - val_loss: 8.5239e-08\n",
            "Epoch 9/80\n",
            "4/4 [==============================] - 0s 21ms/step - loss: 7.0379e-08 - val_loss: 8.5239e-08\n",
            "Epoch 10/80\n",
            "4/4 [==============================] - 0s 20ms/step - loss: 7.0379e-08 - val_loss: 8.5239e-08\n",
            "Epoch 11/80\n",
            "4/4 [==============================] - 0s 21ms/step - loss: 7.0379e-08 - val_loss: 8.5239e-08\n",
            "Epoch 12/80\n",
            "4/4 [==============================] - 0s 23ms/step - loss: 7.0379e-08 - val_loss: 8.5239e-08\n",
            "Epoch 13/80\n",
            "4/4 [==============================] - 0s 24ms/step - loss: 7.0379e-08 - val_loss: 8.5239e-08\n",
            "Epoch 14/80\n",
            "4/4 [==============================] - 0s 20ms/step - loss: 7.0379e-08 - val_loss: 8.5239e-08\n",
            "Epoch 15/80\n",
            "4/4 [==============================] - 0s 20ms/step - loss: 7.0379e-08 - val_loss: 8.5239e-08\n",
            "Epoch 16/80\n",
            "4/4 [==============================] - 0s 20ms/step - loss: 7.0379e-08 - val_loss: 8.5239e-08\n",
            "Epoch 17/80\n",
            "4/4 [==============================] - 0s 19ms/step - loss: 7.0379e-08 - val_loss: 8.5239e-08\n",
            "Epoch 18/80\n",
            "4/4 [==============================] - 0s 18ms/step - loss: 7.0379e-08 - val_loss: 8.5239e-08\n",
            "Epoch 19/80\n",
            "4/4 [==============================] - 0s 19ms/step - loss: 7.0379e-08 - val_loss: 8.5239e-08\n",
            "Epoch 20/80\n",
            "4/4 [==============================] - 0s 21ms/step - loss: 7.0379e-08 - val_loss: 8.5239e-08\n",
            "Epoch 21/80\n",
            "4/4 [==============================] - 0s 20ms/step - loss: 7.0379e-08 - val_loss: 8.5239e-08\n",
            "Epoch 22/80\n",
            "4/4 [==============================] - 0s 19ms/step - loss: 7.0379e-08 - val_loss: 8.5239e-08\n",
            "Epoch 23/80\n",
            "4/4 [==============================] - 0s 21ms/step - loss: 7.0379e-08 - val_loss: 8.5239e-08\n",
            "Epoch 24/80\n",
            "4/4 [==============================] - 0s 21ms/step - loss: 7.0379e-08 - val_loss: 8.5239e-08\n",
            "Epoch 25/80\n",
            "4/4 [==============================] - 0s 23ms/step - loss: 7.0379e-08 - val_loss: 8.5239e-08\n",
            "Epoch 26/80\n",
            "4/4 [==============================] - 0s 23ms/step - loss: 7.0379e-08 - val_loss: 8.5239e-08\n",
            "Epoch 27/80\n",
            "4/4 [==============================] - 0s 20ms/step - loss: 7.0379e-08 - val_loss: 8.5239e-08\n",
            "Epoch 28/80\n",
            "4/4 [==============================] - 0s 20ms/step - loss: 7.0379e-08 - val_loss: 8.5239e-08\n",
            "Epoch 29/80\n",
            "4/4 [==============================] - 0s 19ms/step - loss: 7.0379e-08 - val_loss: 8.5239e-08\n",
            "Epoch 30/80\n",
            "4/4 [==============================] - 0s 22ms/step - loss: 7.0379e-08 - val_loss: 8.5239e-08\n",
            "Epoch 31/80\n",
            "4/4 [==============================] - 0s 19ms/step - loss: 7.0379e-08 - val_loss: 8.5239e-08\n",
            "Epoch 32/80\n",
            "4/4 [==============================] - 0s 20ms/step - loss: 7.0379e-08 - val_loss: 8.5239e-08\n",
            "Epoch 33/80\n",
            "4/4 [==============================] - 0s 21ms/step - loss: 7.0379e-08 - val_loss: 8.5239e-08\n",
            "Epoch 34/80\n",
            "4/4 [==============================] - 0s 19ms/step - loss: 7.0379e-08 - val_loss: 8.5239e-08\n",
            "Epoch 35/80\n",
            "4/4 [==============================] - 0s 20ms/step - loss: 7.0379e-08 - val_loss: 8.5239e-08\n",
            "Epoch 36/80\n",
            "4/4 [==============================] - 0s 19ms/step - loss: 7.0379e-08 - val_loss: 8.5239e-08\n",
            "Epoch 37/80\n",
            "4/4 [==============================] - 0s 24ms/step - loss: 7.0379e-08 - val_loss: 8.5239e-08\n",
            "Epoch 38/80\n",
            "4/4 [==============================] - 0s 19ms/step - loss: 7.0379e-08 - val_loss: 8.5239e-08\n",
            "Epoch 39/80\n",
            "4/4 [==============================] - 0s 19ms/step - loss: 7.0379e-08 - val_loss: 8.5239e-08\n",
            "Epoch 40/80\n",
            "4/4 [==============================] - 0s 20ms/step - loss: 7.0379e-08 - val_loss: 8.5239e-08\n",
            "Epoch 41/80\n",
            "4/4 [==============================] - 0s 19ms/step - loss: 7.0379e-08 - val_loss: 8.5239e-08\n",
            "Epoch 42/80\n",
            "4/4 [==============================] - 0s 20ms/step - loss: 7.0379e-08 - val_loss: 8.5239e-08\n",
            "Epoch 43/80\n",
            "4/4 [==============================] - 0s 18ms/step - loss: 7.0379e-08 - val_loss: 8.5239e-08\n",
            "Epoch 44/80\n",
            "4/4 [==============================] - 0s 20ms/step - loss: 7.0379e-08 - val_loss: 8.5239e-08\n",
            "Epoch 45/80\n",
            "4/4 [==============================] - 0s 20ms/step - loss: 7.0379e-08 - val_loss: 8.5239e-08\n",
            "Epoch 46/80\n",
            "4/4 [==============================] - 0s 19ms/step - loss: 7.0379e-08 - val_loss: 8.5239e-08\n",
            "Epoch 47/80\n",
            "4/4 [==============================] - 0s 20ms/step - loss: 7.0379e-08 - val_loss: 8.5239e-08\n",
            "Epoch 48/80\n",
            "4/4 [==============================] - 0s 21ms/step - loss: 7.0379e-08 - val_loss: 8.5239e-08\n",
            "Epoch 49/80\n",
            "4/4 [==============================] - 0s 25ms/step - loss: 7.0379e-08 - val_loss: 8.5239e-08\n",
            "Epoch 50/80\n",
            "4/4 [==============================] - 0s 19ms/step - loss: 7.0379e-08 - val_loss: 8.5239e-08\n",
            "Epoch 51/80\n",
            "4/4 [==============================] - 0s 22ms/step - loss: 7.0379e-08 - val_loss: 8.5239e-08\n",
            "Epoch 52/80\n",
            "4/4 [==============================] - 0s 23ms/step - loss: 7.0379e-08 - val_loss: 8.5239e-08\n",
            "Epoch 53/80\n",
            "4/4 [==============================] - 0s 19ms/step - loss: 7.0379e-08 - val_loss: 8.5239e-08\n",
            "Epoch 54/80\n",
            "4/4 [==============================] - 0s 21ms/step - loss: 7.0379e-08 - val_loss: 8.5239e-08\n",
            "Epoch 55/80\n",
            "4/4 [==============================] - 0s 20ms/step - loss: 7.0379e-08 - val_loss: 8.5239e-08\n",
            "Epoch 56/80\n",
            "4/4 [==============================] - 0s 19ms/step - loss: 7.0379e-08 - val_loss: 8.5239e-08\n",
            "Epoch 57/80\n",
            "4/4 [==============================] - 0s 20ms/step - loss: 7.0379e-08 - val_loss: 8.5239e-08\n",
            "Epoch 58/80\n",
            "4/4 [==============================] - 0s 21ms/step - loss: 7.0379e-08 - val_loss: 8.5239e-08\n",
            "Epoch 59/80\n",
            "4/4 [==============================] - 0s 19ms/step - loss: 7.0379e-08 - val_loss: 8.5239e-08\n",
            "Epoch 60/80\n",
            "4/4 [==============================] - 0s 21ms/step - loss: 7.0379e-08 - val_loss: 8.5239e-08\n",
            "Epoch 61/80\n",
            "4/4 [==============================] - 0s 24ms/step - loss: 7.0379e-08 - val_loss: 8.5239e-08\n",
            "Epoch 62/80\n",
            "4/4 [==============================] - 0s 20ms/step - loss: 7.0379e-08 - val_loss: 8.5239e-08\n",
            "Epoch 63/80\n",
            "4/4 [==============================] - 0s 20ms/step - loss: 7.0379e-08 - val_loss: 8.5239e-08\n",
            "Epoch 64/80\n",
            "4/4 [==============================] - 0s 20ms/step - loss: 7.0379e-08 - val_loss: 8.5239e-08\n",
            "Epoch 65/80\n",
            "4/4 [==============================] - 0s 19ms/step - loss: 7.0379e-08 - val_loss: 8.5239e-08\n",
            "Epoch 66/80\n",
            "4/4 [==============================] - 0s 19ms/step - loss: 7.0379e-08 - val_loss: 8.5239e-08\n",
            "Epoch 67/80\n",
            "4/4 [==============================] - 0s 19ms/step - loss: 7.0379e-08 - val_loss: 8.5239e-08\n",
            "Epoch 68/80\n",
            "4/4 [==============================] - 0s 21ms/step - loss: 7.0379e-08 - val_loss: 8.5239e-08\n",
            "Epoch 69/80\n",
            "4/4 [==============================] - 0s 20ms/step - loss: 7.0379e-08 - val_loss: 8.5239e-08\n",
            "Epoch 70/80\n",
            "4/4 [==============================] - 0s 20ms/step - loss: 7.0379e-08 - val_loss: 8.5239e-08\n",
            "Epoch 71/80\n",
            "4/4 [==============================] - 0s 23ms/step - loss: 7.0379e-08 - val_loss: 8.5239e-08\n",
            "Epoch 72/80\n",
            "4/4 [==============================] - 0s 22ms/step - loss: 7.0379e-08 - val_loss: 8.5239e-08\n",
            "Epoch 73/80\n",
            "4/4 [==============================] - 0s 23ms/step - loss: 7.0379e-08 - val_loss: 8.5239e-08\n",
            "Epoch 74/80\n",
            "4/4 [==============================] - 0s 21ms/step - loss: 7.0379e-08 - val_loss: 8.5239e-08\n",
            "Epoch 75/80\n",
            "4/4 [==============================] - 0s 21ms/step - loss: 7.0379e-08 - val_loss: 8.5239e-08\n",
            "Epoch 76/80\n",
            "4/4 [==============================] - 0s 19ms/step - loss: 7.0379e-08 - val_loss: 8.5239e-08\n",
            "Epoch 77/80\n",
            "4/4 [==============================] - 0s 20ms/step - loss: 7.0379e-08 - val_loss: 8.5239e-08\n",
            "Epoch 78/80\n",
            "4/4 [==============================] - 0s 21ms/step - loss: 7.0379e-08 - val_loss: 8.5239e-08\n",
            "Epoch 79/80\n",
            "4/4 [==============================] - 0s 19ms/step - loss: 7.0379e-08 - val_loss: 8.5239e-08\n",
            "Epoch 80/80\n",
            "4/4 [==============================] - 0s 19ms/step - loss: 7.0379e-08 - val_loss: 8.5239e-08\n"
          ]
        },
        {
          "output_type": "execute_result",
          "data": {
            "text/plain": [
              "<keras.callbacks.History at 0x7fc566cb5e90>"
            ]
          },
          "metadata": {},
          "execution_count": 10
        }
      ]
    },
    {
      "cell_type": "code",
      "source": [
        "test_predict = model.predict(X_test)\n",
        "test_predict[:10]"
      ],
      "metadata": {
        "colab": {
          "base_uri": "https://localhost:8080/"
        },
        "id": "fKzv1L-Eg0lm",
        "outputId": "6466e4e8-fd3b-4308-c245-b00e2d507efa"
      },
      "execution_count": null,
      "outputs": [
        {
          "output_type": "execute_result",
          "data": {
            "text/plain": [
              "array([[-1.6615463 ],\n",
              "       [-0.70212936],\n",
              "       [-1.0210199 ],\n",
              "       [-1.0692412 ],\n",
              "       [-0.92027265],\n",
              "       [-1.0524123 ],\n",
              "       [-1.0014449 ],\n",
              "       [-0.971441  ],\n",
              "       [-1.0664065 ],\n",
              "       [-0.94456017]], dtype=float32)"
            ]
          },
          "metadata": {},
          "execution_count": 11
        }
      ]
    },
    {
      "cell_type": "code",
      "source": [
        "test_predict=scaler.inverse_transform(test_predict)"
      ],
      "metadata": {
        "id": "Bdrg9BM1g4KB"
      },
      "execution_count": null,
      "outputs": []
    },
    {
      "cell_type": "code",
      "source": [
        "plt.figure(figsize = (15,4))\n",
        "plt.plot(scaler.inverse_transform(y_test.reshape(-1,1)), color = 'r', label = 'actual')\n",
        "plt.plot(test_predict, color = 'b',label = 'predicted')\n",
        "plt.legend()\n",
        "plt.show()"
      ],
      "metadata": {
        "colab": {
          "base_uri": "https://localhost:8080/",
          "height": 265
        },
        "id": "VY9m6DmVg6wU",
        "outputId": "6ca5cf28-8f79-4507-e49e-2dd67c65e329"
      },
      "execution_count": null,
      "outputs": [
        {
          "output_type": "display_data",
          "data": {
            "text/plain": [
              "<Figure size 1080x288 with 1 Axes>"
            ],
            "image/png": "[encoded data removed]"
          },
          "metadata": {
            "needs_background": "light"
          }
        }
      ]
    },
    {
      "cell_type": "code",
      "source": [
        "from sklearn.metrics import mean_squared_error\n",
        "mean_squared_error(y_test,test_predict, squared = False)"
      ],
      "metadata": {
        "colab": {
          "base_uri": "https://localhost:8080/"
        },
        "id": "8PW4d92tIKV9",
        "outputId": "778b09bd-42f3-4c1b-f599-46e239da0c77"
      },
      "execution_count": null,
      "outputs": [
        {
          "output_type": "execute_result",
          "data": {
            "text/plain": [
              "0.8696675884002514"
            ]
          },
          "metadata": {},
          "execution_count": 14
        }
      ]
    }
  ]
}